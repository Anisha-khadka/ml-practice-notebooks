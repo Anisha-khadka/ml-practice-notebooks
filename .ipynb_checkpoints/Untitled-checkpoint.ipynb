{
 "cells": [
  {
   "cell_type": "code",
   "execution_count": 1,
   "id": "e9b0ca69-e902-4411-8a75-e11f306f1cc9",
   "metadata": {},
   "outputs": [
    {
     "name": "stdout",
     "output_type": "stream",
     "text": [
      "Hello World\n"
     ]
    }
   ],
   "source": [
    "print(\"Hello World\")"
   ]
  },
  {
   "cell_type": "code",
   "execution_count": 2,
   "id": "75f954f0-dff0-4912-9f8e-1d248f059def",
   "metadata": {},
   "outputs": [
    {
     "data": {
      "text/plain": [
       "3"
      ]
     },
     "execution_count": 2,
     "metadata": {},
     "output_type": "execute_result"
    }
   ],
   "source": [
    "1+2"
   ]
  },
  {
   "cell_type": "markdown",
   "id": "032f072d-bf49-42c8-b334-64b01bc08c7c",
   "metadata": {},
   "source": [
    "hello this is anisha"
   ]
  },
  {
   "cell_type": "code",
   "execution_count": 4,
   "id": "fa132026-8a9b-4e4b-9008-fe6159b1534f",
   "metadata": {},
   "outputs": [],
   "source": [
    "import pandas as pd\n",
    "import numpy as np\n",
    "import matplotlib.pyplot as plt\n",
    "import sklearn"
   ]
  },
  {
   "cell_type": "code",
   "execution_count": 1,
   "id": "fda477a6-bd0d-4257-8173-61a7e9bfc815",
   "metadata": {},
   "outputs": [],
   "source": [
    "#hello world"
   ]
  },
  {
   "cell_type": "markdown",
   "id": "3b93a6ad-d185-49fd-9e1e-32458f24a69a",
   "metadata": {},
   "source": [
    "#hello world"
   ]
  },
  {
   "cell_type": "code",
   "execution_count": 2,
   "id": "5b8c1c15-5974-4e92-baf9-11b957c819f9",
   "metadata": {},
   "outputs": [
    {
     "name": "stdout",
     "output_type": "stream",
     "text": [
      "Hello world\n"
     ]
    }
   ],
   "source": [
    "print(\"Hello world\")"
   ]
  },
  {
   "cell_type": "code",
   "execution_count": 4,
   "id": "c4537a35-378a-4677-a683-d20ca0958243",
   "metadata": {},
   "outputs": [],
   "source": [
    "a=6"
   ]
  },
  {
   "cell_type": "code",
   "execution_count": 3,
   "id": "12f5043e-8b80-4fd5-ae3d-dda29b2812cb",
   "metadata": {},
   "outputs": [],
   "source": [
    "a=5"
   ]
  },
  {
   "cell_type": "markdown",
   "id": "beebdde6-9282-4b64-90bb-9d71f726fedf",
   "metadata": {},
   "source": [
    "# Heart disease project\n",
    "this project is about classifying whether a person has heart disease or not"
   ]
  },
  {
   "cell_type": "code",
   "execution_count": 3,
   "id": "85bbe735-5bb6-44bf-ae29-bd9caa123c38",
   "metadata": {},
   "outputs": [],
   "source": [
    "a=5"
   ]
  },
  {
   "cell_type": "code",
   "execution_count": 7,
   "id": "188dd13c-a632-44ad-b23a-d35cce0afd80",
   "metadata": {},
   "outputs": [],
   "source": [
    "a=6"
   ]
  },
  {
   "cell_type": "code",
   "execution_count": 8,
   "id": "bda101ae-54be-40bc-b24f-372f020dd689",
   "metadata": {},
   "outputs": [
    {
     "data": {
      "text/plain": [
       "6"
      ]
     },
     "execution_count": 8,
     "metadata": {},
     "output_type": "execute_result"
    }
   ],
   "source": [
    "a"
   ]
  },
  {
   "cell_type": "code",
   "execution_count": null,
   "id": "fa673831-ec63-4030-a6ad-f4bf3f6ef74e",
   "metadata": {},
   "outputs": [],
   "source": []
  }
 ],
 "metadata": {
  "kernelspec": {
   "display_name": "Python 3 (ipykernel)",
   "language": "python",
   "name": "python3"
  },
  "language_info": {
   "codemirror_mode": {
    "name": "ipython",
    "version": 3
   },
   "file_extension": ".py",
   "mimetype": "text/x-python",
   "name": "python",
   "nbconvert_exporter": "python",
   "pygments_lexer": "ipython3",
   "version": "3.13.5"
  }
 },
 "nbformat": 4,
 "nbformat_minor": 5
}
