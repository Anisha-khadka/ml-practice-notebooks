{
 "cells": [
  {
   "cell_type": "code",
   "execution_count": 1,
   "id": "7ad4d9d3-d76a-48f2-ad2e-33a8a847aa32",
   "metadata": {},
   "outputs": [],
   "source": [
    "import pandas as pd"
   ]
  },
  {
   "cell_type": "markdown",
   "id": "17b5cd96-ddc2-4ea7-b375-e8b3873a9993",
   "metadata": {},
   "source": [
    "# series"
   ]
  },
  {
   "cell_type": "code",
   "execution_count": 9,
   "id": "536b5f06-1b5e-42a7-9c20-f61194233c34",
   "metadata": {},
   "outputs": [],
   "source": [
    "carcolor=pd.Series(['Red','Green','blue'])\n"
   ]
  },
  {
   "cell_type": "code",
   "execution_count": 7,
   "id": "70620631-5834-4e72-9c2b-3b45b7ef19f7",
   "metadata": {},
   "outputs": [],
   "source": [
    "carname=pd.Series(['BMW','Toyota','tesla'])\n"
   ]
  },
  {
   "cell_type": "code",
   "execution_count": 8,
   "id": "79a87434-63d8-4cd1-aa65-95e1a5719249",
   "metadata": {},
   "outputs": [],
   "source": [
    "car=pd.DataFrame({\"Carcolor\":carcolor,\"Carname\":carname})\n"
   ]
  },
  {
   "cell_type": "code",
   "execution_count": 202,
   "id": "c09e682f-7bb4-4107-b9b7-f25d0409afe1",
   "metadata": {},
   "outputs": [],
   "source": [
    "studentdata=pd.read_csv(\"studentdata.csv\")\n",
    "# studentdata"
   ]
  },
  {
   "cell_type": "code",
   "execution_count": 13,
   "id": "32767b11-a5c2-49f2-9a7e-0166768172aa",
   "metadata": {},
   "outputs": [],
   "source": [
    "a=studentdata.dtypes\n",
    "# a"
   ]
  },
  {
   "cell_type": "code",
   "execution_count": 15,
   "id": "9b8937a8-fdf1-49c2-afe9-d639c88dc320",
   "metadata": {},
   "outputs": [],
   "source": [
    "a=studentdata.columns\n",
    "# a"
   ]
  },
  {
   "cell_type": "code",
   "execution_count": 18,
   "id": "55871813-b7c3-4091-b388-2dfa758e5bc9",
   "metadata": {},
   "outputs": [],
   "source": [
    "a=studentdata.index\n",
    "# a"
   ]
  },
  {
   "cell_type": "code",
   "execution_count": 20,
   "id": "6c6e5750-3d75-4a0c-a0bb-ec87fa0e8399",
   "metadata": {},
   "outputs": [],
   "source": [
    "a=studentdata.describe()   #describes onlu numeric values i.e age\n",
    "# a"
   ]
  },
  {
   "cell_type": "code",
   "execution_count": 26,
   "id": "22aa55a3-9ddf-4ca0-a927-91e4b29b81f1",
   "metadata": {},
   "outputs": [],
   "source": [
    "a=studentdata.info()"
   ]
  },
  {
   "cell_type": "code",
   "execution_count": 29,
   "id": "135d2577-a7a2-4471-80eb-bcfe51b9c062",
   "metadata": {},
   "outputs": [],
   "source": [
    "a=studentdata.mean(numeric_only=True)  #mean of only numeric value i.e age\n",
    "# a"
   ]
  },
  {
   "cell_type": "code",
   "execution_count": 32,
   "id": "277e7f7d-5ae7-47eb-9a1e-934869bd1895",
   "metadata": {},
   "outputs": [],
   "source": [
    "a=studentdata[\"Age\"].sum().item()\n",
    "# a"
   ]
  },
  {
   "cell_type": "code",
   "execution_count": 34,
   "id": "bdbd4526-cc76-4025-bdad-e3ce0d35a430",
   "metadata": {},
   "outputs": [],
   "source": [
    "a=len(studentdata)\n",
    "# a"
   ]
  },
  {
   "cell_type": "code",
   "execution_count": 40,
   "id": "6785a591-ce73-4fb6-8b76-6feab5d2eafb",
   "metadata": {},
   "outputs": [],
   "source": [
    "studentdata.to_csv(\"Exported.csv\",index=False)\n",
    "exporteddata=pd.read_csv(\"Exported.csv\")\n",
    "# exporteddata\n"
   ]
  },
  {
   "cell_type": "markdown",
   "id": "36a7afd7-41a5-4d45-91c7-18c9140d8a5f",
   "metadata": {},
   "source": [
    "# Viewing and Selecting data"
   ]
  },
  {
   "cell_type": "code",
   "execution_count": 45,
   "id": "e5a2dc42-e938-4d86-a611-73b74b761ce5",
   "metadata": {},
   "outputs": [],
   "source": [
    "# studentdata.head()   #top 5 by default\n",
    "# studentdata.head(2)   #top 2\n",
    "# studentdata.tail()   #bottom 5 by default\n",
    "# studentdata.tail(3)    #bottom3\n",
    "# studentdata.loc[2]      #refers to value with index 2 (can be multiple)\n",
    "# studentdata.loc[:3]     #returns upto 3 index number (can be more than 3)\n",
    "# studentdata.iloc[2]     #refers to position 3 irrespective of index number\n",
    "# studentdata.iloc[:2]     #returns uptop 2 position i.e 3 numbers"
   ]
  },
  {
   "cell_type": "code",
   "execution_count": 55,
   "id": "d73bb2b5-cf1d-42d5-9c0e-e3ac47e31514",
   "metadata": {},
   "outputs": [],
   "source": [
    "# studentdata[studentdata[\"Age\"]==22]  #viewing rows who has age==22"
   ]
  },
  {
   "cell_type": "code",
   "execution_count": 57,
   "id": "274be2c9-1f77-4c14-9939-1eb635a9f48f",
   "metadata": {},
   "outputs": [],
   "source": [
    "# Crosstab\n",
    "a=pd.crosstab(studentdata['Name'],studentdata['Age'])\n",
    "# a"
   ]
  },
  {
   "cell_type": "code",
   "execution_count": 66,
   "id": "f6c4833c-1bfa-4230-a3a4-a5feaad75049",
   "metadata": {},
   "outputs": [],
   "source": [
    "#groubby--- group any column and apply operation\n",
    "# studentdata.groupby(['Name']).mean(numeric_only=True)\n",
    "\n"
   ]
  },
  {
   "cell_type": "code",
   "execution_count": 73,
   "id": "059cc7e9-fb3a-4698-9bfd-f10488f747ae",
   "metadata": {},
   "outputs": [],
   "source": [
    "#plot, histogram\n",
    "# studentdata['Age'].plot()  #only numeric data\n",
    "# studentdata['Age'].hist()"
   ]
  },
  {
   "cell_type": "code",
   "execution_count": 76,
   "id": "b7b1d154-3690-4be6-baad-be1519b77b2f",
   "metadata": {},
   "outputs": [],
   "source": [
    "# studentdata['price'].plot()"
   ]
  },
  {
   "cell_type": "code",
   "execution_count": 135,
   "id": "ae993a69-1b2d-47aa-a42f-8d59f6754b13",
   "metadata": {},
   "outputs": [],
   "source": [
    "studentdata['price']=studentdata['price'].astype(str).str.replace(r'[\\$]','',regex=True).astype(int)\n",
    "# studentdata"
   ]
  },
  {
   "cell_type": "markdown",
   "id": "86f22f53-216b-4421-9962-f27e811d6ca5",
   "metadata": {},
   "source": [
    "# Manipulating Data"
   ]
  },
  {
   "cell_type": "code",
   "execution_count": 134,
   "id": "0fc2c70f-c2b0-4e8a-9ee8-dab96928ca23",
   "metadata": {},
   "outputs": [],
   "source": [
    "studentdata['Name'].str.lower()"
   ]
  },
  {
   "cell_type": "code",
   "execution_count": 133,
   "id": "99ccede1-94a9-4e78-823c-6acd9691a8ad",
   "metadata": {},
   "outputs": [],
   "source": [
    "# studentdata['Age'].mean(numeric_only=True).item()\n",
    "studentdata['Age']=studentdata['Age'].fillna(studentdata['Age'].mean(numeric_only=True))\n",
    "# studentdata"
   ]
  },
  {
   "cell_type": "code",
   "execution_count": 130,
   "id": "1929b54a-ac91-4ad7-a32d-e04e69a929e1",
   "metadata": {},
   "outputs": [],
   "source": [
    "studentdata.dropna(inplace=True)"
   ]
  },
  {
   "cell_type": "code",
   "execution_count": 168,
   "id": "cee29654-a08f-41c1-b457-b2018bd405d9",
   "metadata": {},
   "outputs": [],
   "source": [
    "std_marks=pd.Series([200,570,480,398,300])\n",
    "studentdata['Marks']=std_marks\n",
    "# studentdata"
   ]
  },
  {
   "cell_type": "code",
   "execution_count": 144,
   "id": "7ebe18d9-0421-421b-98d7-f1c99ceac907",
   "metadata": {},
   "outputs": [],
   "source": [
    "studentdata['Age']=studentdata['Age'].fillna(33)\n",
    "# studentdata"
   ]
  },
  {
   "cell_type": "code",
   "execution_count": 145,
   "id": "9d61e18c-c5c5-4298-8a62-4a1c7759b8be",
   "metadata": {},
   "outputs": [],
   "source": [
    "studentdata['Rank']=['5th','4th','3rd','2nd','1st']"
   ]
  },
  {
   "cell_type": "code",
   "execution_count": 166,
   "id": "6f9888f9-e1bf-46e0-bb08-f2c05b0f5d07",
   "metadata": {},
   "outputs": [],
   "source": [
    "# studentdata?"
   ]
  },
  {
   "cell_type": "code",
   "execution_count": 165,
   "id": "b1cc61ee-bd0e-447a-9941-8e61a2b33f16",
   "metadata": {},
   "outputs": [],
   "source": [
    "studentdata['Percentage']=(studentdata['Marks']/600)*100\n",
    "# studentdata "
   ]
  },
  {
   "cell_type": "code",
   "execution_count": 162,
   "id": "61256e80-857d-4ac1-85b4-710f7863810e",
   "metadata": {},
   "outputs": [],
   "source": [
    "studentdata['number']=4\n",
    "# studentdata"
   ]
  },
  {
   "cell_type": "code",
   "execution_count": 205,
   "id": "c49aa2c9-e0e3-428e-81d1-ad9904419ad0",
   "metadata": {},
   "outputs": [],
   "source": [
    "# removing column\n",
    "studentdata=studentdata.drop(\"number\",axis=1)\n",
    "# studentdata"
   ]
  },
  {
   "cell_type": "code",
   "execution_count": 171,
   "id": "355be646-13c6-46e9-91ca-ce9271efe02f",
   "metadata": {},
   "outputs": [],
   "source": [
    "studentdatashuffled=studentdata.sample(frac=1)"
   ]
  },
  {
   "cell_type": "code",
   "execution_count": 173,
   "id": "56375105-79f3-4f6e-8a81-3c90f71918ab",
   "metadata": {},
   "outputs": [
    {
     "data": {
      "text/html": [
       "<div>\n",
       "<style scoped>\n",
       "    .dataframe tbody tr th:only-of-type {\n",
       "        vertical-align: middle;\n",
       "    }\n",
       "\n",
       "    .dataframe tbody tr th {\n",
       "        vertical-align: top;\n",
       "    }\n",
       "\n",
       "    .dataframe thead th {\n",
       "        text-align: right;\n",
       "    }\n",
       "</style>\n",
       "<table border=\"1\" class=\"dataframe\">\n",
       "  <thead>\n",
       "    <tr style=\"text-align: right;\">\n",
       "      <th></th>\n",
       "      <th>Name</th>\n",
       "      <th>Age</th>\n",
       "      <th>Location</th>\n",
       "      <th>price</th>\n",
       "      <th>Marks</th>\n",
       "      <th>Rank</th>\n",
       "      <th>Percentage</th>\n",
       "    </tr>\n",
       "  </thead>\n",
       "  <tbody>\n",
       "    <tr>\n",
       "      <th>4</th>\n",
       "      <td>Hari</td>\n",
       "      <td>33.0</td>\n",
       "      <td>pokhara</td>\n",
       "      <td>NaN</td>\n",
       "      <td>300</td>\n",
       "      <td>1st</td>\n",
       "      <td>50.0</td>\n",
       "    </tr>\n",
       "  </tbody>\n",
       "</table>\n",
       "</div>"
      ],
      "text/plain": [
       "   Name   Age Location price  Marks Rank  Percentage\n",
       "4  Hari  33.0  pokhara   NaN    300  1st        50.0"
      ]
     },
     "execution_count": 173,
     "metadata": {},
     "output_type": "execute_result"
    }
   ],
   "source": [
    "#only select 20% of data\n",
    "a=studentdatashuffled.sample(frac=0.2)\n",
    "a"
   ]
  },
  {
   "cell_type": "code",
   "execution_count": 204,
   "id": "c4336d63-260c-4983-bda9-29d552431803",
   "metadata": {},
   "outputs": [
    {
     "data": {
      "text/html": [
       "<div>\n",
       "<style scoped>\n",
       "    .dataframe tbody tr th:only-of-type {\n",
       "        vertical-align: middle;\n",
       "    }\n",
       "\n",
       "    .dataframe tbody tr th {\n",
       "        vertical-align: top;\n",
       "    }\n",
       "\n",
       "    .dataframe thead th {\n",
       "        text-align: right;\n",
       "    }\n",
       "</style>\n",
       "<table border=\"1\" class=\"dataframe\">\n",
       "  <thead>\n",
       "    <tr style=\"text-align: right;\">\n",
       "      <th></th>\n",
       "      <th>Name</th>\n",
       "      <th>Age</th>\n",
       "      <th>Location</th>\n",
       "      <th>price</th>\n",
       "    </tr>\n",
       "  </thead>\n",
       "  <tbody>\n",
       "    <tr>\n",
       "      <th>0</th>\n",
       "      <td>Anisha</td>\n",
       "      <td>22.0</td>\n",
       "      <td>Thulobharyang</td>\n",
       "      <td>$200</td>\n",
       "    </tr>\n",
       "    <tr>\n",
       "      <th>1</th>\n",
       "      <td>Ashish</td>\n",
       "      <td>23.0</td>\n",
       "      <td>ktm</td>\n",
       "      <td>$400</td>\n",
       "    </tr>\n",
       "    <tr>\n",
       "      <th>2</th>\n",
       "      <td>Ram</td>\n",
       "      <td>35.0</td>\n",
       "      <td>basundhara</td>\n",
       "      <td>$300</td>\n",
       "    </tr>\n",
       "    <tr>\n",
       "      <th>3</th>\n",
       "      <td>Sita</td>\n",
       "      <td>22.0</td>\n",
       "      <td>chitwan</td>\n",
       "      <td>$600</td>\n",
       "    </tr>\n",
       "    <tr>\n",
       "      <th>4</th>\n",
       "      <td>Hari</td>\n",
       "      <td>NaN</td>\n",
       "      <td>pokhara</td>\n",
       "      <td>NaN</td>\n",
       "    </tr>\n",
       "  </tbody>\n",
       "</table>\n",
       "</div>"
      ],
      "text/plain": [
       "     Name   Age       Location  price\n",
       "0  Anisha  22.0  Thulobharyang  $200 \n",
       "1  Ashish  23.0            ktm  $400 \n",
       "2     Ram  35.0     basundhara  $300 \n",
       "3    Sita  22.0        chitwan  $600 \n",
       "4    Hari   NaN        pokhara    NaN"
      ]
     },
     "execution_count": 204,
     "metadata": {},
     "output_type": "execute_result"
    }
   ],
   "source": [
    "studentdata.reset_index(drop=True,inplace=True)\n",
    "studentdata"
   ]
  },
  {
   "cell_type": "code",
   "execution_count": null,
   "id": "62e305d4-56f8-4555-9c7d-7e52dbd2f75e",
   "metadata": {},
   "outputs": [],
   "source": []
  }
 ],
 "metadata": {
  "kernelspec": {
   "display_name": "Python 3 (ipykernel)",
   "language": "python",
   "name": "python3"
  },
  "language_info": {
   "codemirror_mode": {
    "name": "ipython",
    "version": 3
   },
   "file_extension": ".py",
   "mimetype": "text/x-python",
   "name": "python",
   "nbconvert_exporter": "python",
   "pygments_lexer": "ipython3",
   "version": "3.13.5"
  }
 },
 "nbformat": 4,
 "nbformat_minor": 5
}
